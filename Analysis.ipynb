{
 "cells": [
  {
   "cell_type": "code",
   "execution_count": 1,
   "id": "initial_id",
   "metadata": {
    "ExecuteTime": {
     "end_time": "2025-01-04T10:28:38.179407Z",
     "start_time": "2025-01-04T10:28:38.162649Z"
    },
    "collapsed": true
   },
   "outputs": [],
   "source": [
    "import pandas as pd\n",
    "import re\n",
    "from sklearn.impute import SimpleImputer"
   ]
  },
  {
   "cell_type": "code",
   "execution_count": 7,
   "id": "766d39548217e926",
   "metadata": {
    "ExecuteTime": {
     "end_time": "2025-01-04T10:28:38.292401Z",
     "start_time": "2025-01-04T10:28:38.210716Z"
    }
   },
   "outputs": [
    {
     "name": "stdout",
     "output_type": "stream",
     "text": [
      "PCOS\n",
      "No                                    134\n",
      "Yes                                    38\n",
      "No, Yes, not diagnosed by a doctor      1\n",
      "Name: count, dtype: int64\n"
     ]
    }
   ],
   "source": [
    "df = pd.read_csv(\"Cleaned-Data.csv\")\n",
    "value_counts = df['PCOS'].value_counts()\n",
    "print(value_counts)\n",
    "\n"
   ]
  },
  {
   "cell_type": "code",
   "execution_count": 8,
   "id": "a8c81e32",
   "metadata": {},
   "outputs": [
    {
     "name": "stdout",
     "output_type": "stream",
     "text": [
      "['No' 'Yes']\n"
     ]
    }
   ],
   "source": [
    "\n",
    "df['PCOS'] = df['PCOS'].str.strip()\n",
    "df = df.drop(df[df['PCOS'] == 'No, Yes, not diagnosed by a doctor'].index)\n",
    "unique_pcos_values = df['PCOS'].unique()\n",
    "print(unique_pcos_values)"
   ]
  }
 ],
 "metadata": {
  "kernelspec": {
   "display_name": "Python 3",
   "language": "python",
   "name": "python3"
  },
  "language_info": {
   "codemirror_mode": {
    "name": "ipython",
    "version": 3
   },
   "file_extension": ".py",
   "mimetype": "text/x-python",
   "name": "python",
   "nbconvert_exporter": "python",
   "pygments_lexer": "ipython3",
   "version": "3.13.0"
  }
 },
 "nbformat": 4,
 "nbformat_minor": 5
}
