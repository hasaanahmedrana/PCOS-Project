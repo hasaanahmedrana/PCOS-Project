{
 "cells": [
  {
   "cell_type": "code",
   "id": "initial_id",
   "metadata": {
    "collapsed": true,
    "ExecuteTime": {
     "end_time": "2025-01-04T10:28:38.179407Z",
     "start_time": "2025-01-04T10:28:38.162649Z"
    }
   },
   "source": [
    "import pandas as pd\n",
    "import re\n",
    "from sklearn.impute import SimpleImputer"
   ],
   "outputs": [],
   "execution_count": 12
  },
  {
   "metadata": {
    "ExecuteTime": {
     "end_time": "2025-01-04T10:28:38.292401Z",
     "start_time": "2025-01-04T10:28:38.210716Z"
    }
   },
   "cell_type": "code",
   "source": "df = pd.read_csv(\"Cleaned-Data.csv\")\n",
   "id": "766d39548217e926",
   "outputs": [],
   "execution_count": 13
  }
 ],
 "metadata": {
  "kernelspec": {
   "display_name": "Python 3",
   "language": "python",
   "name": "python3"
  },
  "language_info": {
   "codemirror_mode": {
    "name": "ipython",
    "version": 2
   },
   "file_extension": ".py",
   "mimetype": "text/x-python",
   "name": "python",
   "nbconvert_exporter": "python",
   "pygments_lexer": "ipython2",
   "version": "2.7.6"
  }
 },
 "nbformat": 4,
 "nbformat_minor": 5
}
